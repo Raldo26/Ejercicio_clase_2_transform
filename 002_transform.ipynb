{
 "cells": [
  {
   "cell_type": "markdown",
   "metadata": {},
   "source": [
    "Juan Camilo Giraldo Londoño"
   ]
  },
  {
   "cell_type": "markdown",
   "metadata": {},
   "source": [
    "En el siguiente cuaderno se realiza la carga de un dataset del cual se ejecutan una serie de transformaciones y un análisis exploratorio de datos con el fin de dejarlo lo más limpio y funcional para entrenar un modelo de machine learning que permita clasificar cuando un producto es nuevo o usado"
   ]
  },
  {
   "cell_type": "markdown",
   "metadata": {},
   "source": [
    "Librerías"
   ]
  },
  {
   "cell_type": "code",
   "execution_count": null,
   "metadata": {},
   "outputs": [],
   "source": [
    "import numpy as np\n",
    "import pandas as pd\n",
    "import seaborn as sns\n",
    "import matplotlib.pyplot as plt"
   ]
  },
  {
   "cell_type": "markdown",
   "metadata": {},
   "source": [
    "# Cargar dataset"
   ]
  },
  {
   "cell_type": "code",
   "execution_count": 45,
   "metadata": {},
   "outputs": [],
   "source": [
    "df = pd.read_json(\"MLA_100k.jsonlines\",lines=True)"
   ]
  },
  {
   "cell_type": "code",
   "execution_count": 46,
   "metadata": {},
   "outputs": [
    {
     "data": {
      "text/html": [
       "<div>\n",
       "<style scoped>\n",
       "    .dataframe tbody tr th:only-of-type {\n",
       "        vertical-align: middle;\n",
       "    }\n",
       "\n",
       "    .dataframe tbody tr th {\n",
       "        vertical-align: top;\n",
       "    }\n",
       "\n",
       "    .dataframe thead th {\n",
       "        text-align: right;\n",
       "    }\n",
       "</style>\n",
       "<table border=\"1\" class=\"dataframe\">\n",
       "  <thead>\n",
       "    <tr style=\"text-align: right;\">\n",
       "      <th></th>\n",
       "      <th>seller_address</th>\n",
       "      <th>warranty</th>\n",
       "      <th>sub_status</th>\n",
       "      <th>condition</th>\n",
       "      <th>seller_contact</th>\n",
       "      <th>deal_ids</th>\n",
       "      <th>base_price</th>\n",
       "      <th>shipping</th>\n",
       "      <th>non_mercado_pago_payment_methods</th>\n",
       "      <th>seller_id</th>\n",
       "      <th>...</th>\n",
       "      <th>status</th>\n",
       "      <th>video_id</th>\n",
       "      <th>catalog_product_id</th>\n",
       "      <th>subtitle</th>\n",
       "      <th>initial_quantity</th>\n",
       "      <th>start_time</th>\n",
       "      <th>permalink</th>\n",
       "      <th>geolocation</th>\n",
       "      <th>sold_quantity</th>\n",
       "      <th>available_quantity</th>\n",
       "    </tr>\n",
       "  </thead>\n",
       "  <tbody>\n",
       "    <tr>\n",
       "      <th>0</th>\n",
       "      <td>{'comment': '', 'longitude': -58.3986709, 'id'...</td>\n",
       "      <td>None</td>\n",
       "      <td>[]</td>\n",
       "      <td>new</td>\n",
       "      <td>None</td>\n",
       "      <td>[]</td>\n",
       "      <td>80.0</td>\n",
       "      <td>{'local_pick_up': True, 'methods': [], 'tags':...</td>\n",
       "      <td>[{'description': 'Transferencia bancaria', 'id...</td>\n",
       "      <td>74952096</td>\n",
       "      <td>...</td>\n",
       "      <td>active</td>\n",
       "      <td>None</td>\n",
       "      <td>NaN</td>\n",
       "      <td>NaN</td>\n",
       "      <td>1</td>\n",
       "      <td>2015-09-05 20:42:53+00:00</td>\n",
       "      <td>http://articulo.mercadolibre.com.ar/MLA-578052...</td>\n",
       "      <td>{'latitude': -34.6280698, 'longitude': -58.398...</td>\n",
       "      <td>0</td>\n",
       "      <td>1</td>\n",
       "    </tr>\n",
       "    <tr>\n",
       "      <th>1</th>\n",
       "      <td>{'comment': '', 'longitude': -58.5059173, 'id'...</td>\n",
       "      <td>NUESTRA REPUTACION</td>\n",
       "      <td>[]</td>\n",
       "      <td>used</td>\n",
       "      <td>None</td>\n",
       "      <td>[]</td>\n",
       "      <td>2650.0</td>\n",
       "      <td>{'local_pick_up': True, 'methods': [], 'tags':...</td>\n",
       "      <td>[{'description': 'Transferencia bancaria', 'id...</td>\n",
       "      <td>42093335</td>\n",
       "      <td>...</td>\n",
       "      <td>active</td>\n",
       "      <td>None</td>\n",
       "      <td>NaN</td>\n",
       "      <td>NaN</td>\n",
       "      <td>1</td>\n",
       "      <td>2015-09-26 18:08:30+00:00</td>\n",
       "      <td>http://articulo.mercadolibre.com.ar/MLA-581565...</td>\n",
       "      <td>{'latitude': -34.5935524, 'longitude': -58.505...</td>\n",
       "      <td>0</td>\n",
       "      <td>1</td>\n",
       "    </tr>\n",
       "    <tr>\n",
       "      <th>2</th>\n",
       "      <td>{'comment': '', 'longitude': -58.4143948, 'id'...</td>\n",
       "      <td>None</td>\n",
       "      <td>[]</td>\n",
       "      <td>used</td>\n",
       "      <td>None</td>\n",
       "      <td>[]</td>\n",
       "      <td>60.0</td>\n",
       "      <td>{'local_pick_up': True, 'methods': [], 'tags':...</td>\n",
       "      <td>[{'description': 'Transferencia bancaria', 'id...</td>\n",
       "      <td>133384258</td>\n",
       "      <td>...</td>\n",
       "      <td>active</td>\n",
       "      <td>None</td>\n",
       "      <td>NaN</td>\n",
       "      <td>NaN</td>\n",
       "      <td>1</td>\n",
       "      <td>2015-09-09 23:57:07+00:00</td>\n",
       "      <td>http://articulo.mercadolibre.com.ar/MLA-578780...</td>\n",
       "      <td>{'latitude': -34.6233907, 'longitude': -58.414...</td>\n",
       "      <td>0</td>\n",
       "      <td>1</td>\n",
       "    </tr>\n",
       "    <tr>\n",
       "      <th>3</th>\n",
       "      <td>{'comment': '', 'longitude': -58.4929208, 'id'...</td>\n",
       "      <td>None</td>\n",
       "      <td>[]</td>\n",
       "      <td>new</td>\n",
       "      <td>None</td>\n",
       "      <td>[]</td>\n",
       "      <td>580.0</td>\n",
       "      <td>{'local_pick_up': True, 'methods': [], 'tags':...</td>\n",
       "      <td>[{'description': 'Transferencia bancaria', 'id...</td>\n",
       "      <td>143001605</td>\n",
       "      <td>...</td>\n",
       "      <td>active</td>\n",
       "      <td>None</td>\n",
       "      <td>NaN</td>\n",
       "      <td>NaN</td>\n",
       "      <td>1</td>\n",
       "      <td>2015-09-28 18:47:56+00:00</td>\n",
       "      <td>http://articulo.mercadolibre.com.ar/MLA-581877...</td>\n",
       "      <td>{'latitude': -34.6281894, 'longitude': -58.492...</td>\n",
       "      <td>0</td>\n",
       "      <td>1</td>\n",
       "    </tr>\n",
       "    <tr>\n",
       "      <th>4</th>\n",
       "      <td>{'comment': '', 'longitude': -58.5495042, 'id'...</td>\n",
       "      <td>MI REPUTACION.</td>\n",
       "      <td>[]</td>\n",
       "      <td>used</td>\n",
       "      <td>None</td>\n",
       "      <td>[]</td>\n",
       "      <td>30.0</td>\n",
       "      <td>{'local_pick_up': True, 'methods': [], 'tags':...</td>\n",
       "      <td>[{'description': 'Transferencia bancaria', 'id...</td>\n",
       "      <td>96873449</td>\n",
       "      <td>...</td>\n",
       "      <td>active</td>\n",
       "      <td>None</td>\n",
       "      <td>NaN</td>\n",
       "      <td>NaN</td>\n",
       "      <td>1</td>\n",
       "      <td>2015-08-24 22:07:20+00:00</td>\n",
       "      <td>http://articulo.mercadolibre.com.ar/MLA-576112...</td>\n",
       "      <td>{'latitude': -34.6346547, 'longitude': -58.549...</td>\n",
       "      <td>0</td>\n",
       "      <td>1</td>\n",
       "    </tr>\n",
       "  </tbody>\n",
       "</table>\n",
       "<p>5 rows × 48 columns</p>\n",
       "</div>"
      ],
      "text/plain": [
       "                                      seller_address            warranty  \\\n",
       "0  {'comment': '', 'longitude': -58.3986709, 'id'...                None   \n",
       "1  {'comment': '', 'longitude': -58.5059173, 'id'...  NUESTRA REPUTACION   \n",
       "2  {'comment': '', 'longitude': -58.4143948, 'id'...                None   \n",
       "3  {'comment': '', 'longitude': -58.4929208, 'id'...                None   \n",
       "4  {'comment': '', 'longitude': -58.5495042, 'id'...      MI REPUTACION.   \n",
       "\n",
       "  sub_status condition seller_contact deal_ids  base_price  \\\n",
       "0         []       new           None       []        80.0   \n",
       "1         []      used           None       []      2650.0   \n",
       "2         []      used           None       []        60.0   \n",
       "3         []       new           None       []       580.0   \n",
       "4         []      used           None       []        30.0   \n",
       "\n",
       "                                            shipping  \\\n",
       "0  {'local_pick_up': True, 'methods': [], 'tags':...   \n",
       "1  {'local_pick_up': True, 'methods': [], 'tags':...   \n",
       "2  {'local_pick_up': True, 'methods': [], 'tags':...   \n",
       "3  {'local_pick_up': True, 'methods': [], 'tags':...   \n",
       "4  {'local_pick_up': True, 'methods': [], 'tags':...   \n",
       "\n",
       "                    non_mercado_pago_payment_methods  seller_id  ...  status  \\\n",
       "0  [{'description': 'Transferencia bancaria', 'id...   74952096  ...  active   \n",
       "1  [{'description': 'Transferencia bancaria', 'id...   42093335  ...  active   \n",
       "2  [{'description': 'Transferencia bancaria', 'id...  133384258  ...  active   \n",
       "3  [{'description': 'Transferencia bancaria', 'id...  143001605  ...  active   \n",
       "4  [{'description': 'Transferencia bancaria', 'id...   96873449  ...  active   \n",
       "\n",
       "  video_id catalog_product_id subtitle  initial_quantity  \\\n",
       "0     None                NaN      NaN                 1   \n",
       "1     None                NaN      NaN                 1   \n",
       "2     None                NaN      NaN                 1   \n",
       "3     None                NaN      NaN                 1   \n",
       "4     None                NaN      NaN                 1   \n",
       "\n",
       "                 start_time  \\\n",
       "0 2015-09-05 20:42:53+00:00   \n",
       "1 2015-09-26 18:08:30+00:00   \n",
       "2 2015-09-09 23:57:07+00:00   \n",
       "3 2015-09-28 18:47:56+00:00   \n",
       "4 2015-08-24 22:07:20+00:00   \n",
       "\n",
       "                                           permalink  \\\n",
       "0  http://articulo.mercadolibre.com.ar/MLA-578052...   \n",
       "1  http://articulo.mercadolibre.com.ar/MLA-581565...   \n",
       "2  http://articulo.mercadolibre.com.ar/MLA-578780...   \n",
       "3  http://articulo.mercadolibre.com.ar/MLA-581877...   \n",
       "4  http://articulo.mercadolibre.com.ar/MLA-576112...   \n",
       "\n",
       "                                         geolocation sold_quantity  \\\n",
       "0  {'latitude': -34.6280698, 'longitude': -58.398...             0   \n",
       "1  {'latitude': -34.5935524, 'longitude': -58.505...             0   \n",
       "2  {'latitude': -34.6233907, 'longitude': -58.414...             0   \n",
       "3  {'latitude': -34.6281894, 'longitude': -58.492...             0   \n",
       "4  {'latitude': -34.6346547, 'longitude': -58.549...             0   \n",
       "\n",
       "  available_quantity  \n",
       "0                  1  \n",
       "1                  1  \n",
       "2                  1  \n",
       "3                  1  \n",
       "4                  1  \n",
       "\n",
       "[5 rows x 48 columns]"
      ]
     },
     "execution_count": 46,
     "metadata": {},
     "output_type": "execute_result"
    }
   ],
   "source": [
    "df.head(5)"
   ]
  },
  {
   "cell_type": "code",
   "execution_count": 47,
   "metadata": {},
   "outputs": [
    {
     "data": {
      "text/plain": [
       "Index(['seller_address', 'warranty', 'sub_status', 'condition',\n",
       "       'seller_contact', 'deal_ids', 'base_price', 'shipping',\n",
       "       'non_mercado_pago_payment_methods', 'seller_id', 'variations',\n",
       "       'location', 'site_id', 'listing_type_id', 'price', 'attributes',\n",
       "       'buying_mode', 'tags', 'listing_source', 'parent_item_id',\n",
       "       'coverage_areas', 'category_id', 'descriptions', 'last_updated',\n",
       "       'international_delivery_mode', 'pictures', 'id', 'official_store_id',\n",
       "       'differential_pricing', 'accepts_mercadopago', 'original_price',\n",
       "       'currency_id', 'thumbnail', 'title', 'automatic_relist', 'date_created',\n",
       "       'secure_thumbnail', 'stop_time', 'status', 'video_id',\n",
       "       'catalog_product_id', 'subtitle', 'initial_quantity', 'start_time',\n",
       "       'permalink', 'geolocation', 'sold_quantity', 'available_quantity'],\n",
       "      dtype='object')"
      ]
     },
     "execution_count": 47,
     "metadata": {},
     "output_type": "execute_result"
    }
   ],
   "source": [
    "df.columns"
   ]
  },
  {
   "cell_type": "code",
   "execution_count": 48,
   "metadata": {},
   "outputs": [
    {
     "data": {
      "text/plain": [
       "seller_address                                   object\n",
       "warranty                                         object\n",
       "sub_status                                       object\n",
       "condition                                        object\n",
       "seller_contact                                   object\n",
       "deal_ids                                         object\n",
       "base_price                                      float64\n",
       "shipping                                         object\n",
       "non_mercado_pago_payment_methods                 object\n",
       "seller_id                                         int64\n",
       "variations                                       object\n",
       "location                                         object\n",
       "site_id                                          object\n",
       "listing_type_id                                  object\n",
       "price                                           float64\n",
       "attributes                                       object\n",
       "buying_mode                                      object\n",
       "tags                                             object\n",
       "listing_source                                   object\n",
       "parent_item_id                                   object\n",
       "coverage_areas                                   object\n",
       "category_id                                      object\n",
       "descriptions                                     object\n",
       "last_updated                                     object\n",
       "international_delivery_mode                      object\n",
       "pictures                                         object\n",
       "id                                               object\n",
       "official_store_id                               float64\n",
       "differential_pricing                            float64\n",
       "accepts_mercadopago                                bool\n",
       "original_price                                  float64\n",
       "currency_id                                      object\n",
       "thumbnail                                        object\n",
       "title                                            object\n",
       "automatic_relist                                   bool\n",
       "date_created                                     object\n",
       "secure_thumbnail                                 object\n",
       "stop_time                           datetime64[ns, UTC]\n",
       "status                                           object\n",
       "video_id                                         object\n",
       "catalog_product_id                              float64\n",
       "subtitle                                        float64\n",
       "initial_quantity                                  int64\n",
       "start_time                          datetime64[ns, UTC]\n",
       "permalink                                        object\n",
       "geolocation                                      object\n",
       "sold_quantity                                     int64\n",
       "available_quantity                                int64\n",
       "dtype: object"
      ]
     },
     "execution_count": 48,
     "metadata": {},
     "output_type": "execute_result"
    }
   ],
   "source": [
    "df.dtypes"
   ]
  },
  {
   "cell_type": "markdown",
   "metadata": {},
   "source": [
    "# Creación de nuevas columnas"
   ]
  },
  {
   "cell_type": "code",
   "execution_count": 49,
   "metadata": {},
   "outputs": [],
   "source": [
    "# Copiar el dataset para no modificar el original\n",
    "df_copy = df.copy()"
   ]
  },
  {
   "cell_type": "markdown",
   "metadata": {},
   "source": [
    "Shipping"
   ]
  },
  {
   "cell_type": "code",
   "execution_count": 50,
   "metadata": {},
   "outputs": [
    {
     "data": {
      "text/plain": [
       "{'local_pick_up': True,\n",
       " 'methods': [],\n",
       " 'tags': [],\n",
       " 'free_shipping': False,\n",
       " 'mode': 'not_specified',\n",
       " 'dimensions': None}"
      ]
     },
     "execution_count": 50,
     "metadata": {},
     "output_type": "execute_result"
    }
   ],
   "source": [
    "df_copy['shipping'][0]"
   ]
  },
  {
   "cell_type": "code",
   "execution_count": 51,
   "metadata": {},
   "outputs": [],
   "source": [
    "df_copy[\"shipping_local_pick_up\"] = df_copy[\"shipping\"].apply(lambda x: x.get(\"local_pick_up\") if isinstance(x, dict) else None)\n",
    "df_copy[\"shipping_free_shipping\"] = df_copy[\"shipping\"].apply(lambda x: x.get(\"free_shipping\") if isinstance(x, dict) else None)\n",
    "df_copy[\"shipping_mode\"] = df_copy[\"shipping\"].apply(lambda x: x.get(\"mode\") if isinstance(x, dict) else None)"
   ]
  },
  {
   "cell_type": "markdown",
   "metadata": {},
   "source": [
    "date_created"
   ]
  },
  {
   "cell_type": "code",
   "execution_count": 52,
   "metadata": {},
   "outputs": [
    {
     "data": {
      "text/plain": [
       "'2015-09-05T20:42:53.000Z'"
      ]
     },
     "execution_count": 52,
     "metadata": {},
     "output_type": "execute_result"
    }
   ],
   "source": [
    "df_copy['date_created'][0]"
   ]
  },
  {
   "cell_type": "code",
   "execution_count": 53,
   "metadata": {},
   "outputs": [],
   "source": [
    "# Asegurar que date_created es un datetime\n",
    "df_copy[\"date_created\"] = pd.to_datetime(df_copy[\"date_created\"])\n",
    "\n",
    "# Extraer las nuevas columnas\n",
    "df_copy[\"Year_created\"] = df_copy[\"date_created\"].dt.year\n",
    "df_copy[\"Month_created\"] = df_copy[\"date_created\"].dt.month\n",
    "df_copy[\"day_name_created\"] = df_copy[\"date_created\"].dt.day_name()\n",
    "df_copy[\"Hour_created\"] = df_copy[\"date_created\"].dt.hour\n",
    "df_copy[\"Min_created\"] = df_copy[\"date_created\"].dt.minute"
   ]
  },
  {
   "cell_type": "markdown",
   "metadata": {},
   "source": [
    "last_updated"
   ]
  },
  {
   "cell_type": "code",
   "execution_count": 54,
   "metadata": {},
   "outputs": [
    {
     "data": {
      "text/plain": [
       "'2015-09-05T20:42:58.000Z'"
      ]
     },
     "execution_count": 54,
     "metadata": {},
     "output_type": "execute_result"
    }
   ],
   "source": [
    "df_copy['last_updated'][0]"
   ]
  },
  {
   "cell_type": "code",
   "execution_count": 55,
   "metadata": {},
   "outputs": [],
   "source": [
    "# Asegurar que last_updated es un datetime\n",
    "df_copy[\"last_updated\"] = pd.to_datetime(df_copy[\"last_updated\"])\n",
    "\n",
    "# Extraer las nuevas columnas\n",
    "df_copy[\"Month_updated\"] = df_copy[\"last_updated\"].dt.month\n",
    "df_copy[\"day_name_updated\"] = df_copy[\"last_updated\"].dt.day_name()\n",
    "df_copy[\"Hour_updated\"] = df_copy[\"last_updated\"].dt.hour\n",
    "df_copy[\"Min_updated\"] = df_copy[\"last_updated\"].dt.minute\n"
   ]
  },
  {
   "cell_type": "markdown",
   "metadata": {},
   "source": [
    "# Selección de columnas"
   ]
  },
  {
   "cell_type": "markdown",
   "metadata": {},
   "source": [
    "Se seleccionan las siguientes caracterisricas para clasificar si un producto es nuevo o usado, ya que conserva variables clave relacionadas con el tipo de listado, precio, método de compra, envíos y temporalidad, todas con un impacto potencial en la clasificación. Se eliminaron columnas redundantes, irrelevantes o que podrían introducir sesgos, como identificadores, descripciones y datos de ubicación. Además, las fechas se transformaron en variables más útiles para detectar patrones de publicación y actualización. Esta limpieza mejora la eficiencia del modelo, reduce el ruido y facilita la interpretación de los resultados, permitiendo una mejor generalización en la predicción. No se realizó un análisis de las caracteristicas a partir de matrices de correlación o haciendo usos de modelos de machine learning debido a que a este punto aún nose hace cambio de variables categóricas a númericas."
   ]
  },
  {
   "cell_type": "code",
   "execution_count": 56,
   "metadata": {},
   "outputs": [
    {
     "data": {
      "text/html": [
       "<div>\n",
       "<style scoped>\n",
       "    .dataframe tbody tr th:only-of-type {\n",
       "        vertical-align: middle;\n",
       "    }\n",
       "\n",
       "    .dataframe tbody tr th {\n",
       "        vertical-align: top;\n",
       "    }\n",
       "\n",
       "    .dataframe thead th {\n",
       "        text-align: right;\n",
       "    }\n",
       "</style>\n",
       "<table border=\"1\" class=\"dataframe\">\n",
       "  <thead>\n",
       "    <tr style=\"text-align: right;\">\n",
       "      <th></th>\n",
       "      <th>condition</th>\n",
       "      <th>listing_type_id</th>\n",
       "      <th>price</th>\n",
       "      <th>buying_mode</th>\n",
       "      <th>accepts_mercadopago</th>\n",
       "      <th>automatic_relist</th>\n",
       "      <th>status</th>\n",
       "      <th>shipping_local_pick_up</th>\n",
       "      <th>shipping_free_shipping</th>\n",
       "      <th>shipping_mode</th>\n",
       "      <th>Year_created</th>\n",
       "      <th>Month_created</th>\n",
       "      <th>day_name_created</th>\n",
       "      <th>Hour_created</th>\n",
       "      <th>Min_created</th>\n",
       "      <th>Month_updated</th>\n",
       "      <th>day_name_updated</th>\n",
       "      <th>Hour_updated</th>\n",
       "      <th>Min_updated</th>\n",
       "    </tr>\n",
       "  </thead>\n",
       "  <tbody>\n",
       "    <tr>\n",
       "      <th>0</th>\n",
       "      <td>new</td>\n",
       "      <td>bronze</td>\n",
       "      <td>80.0</td>\n",
       "      <td>buy_it_now</td>\n",
       "      <td>True</td>\n",
       "      <td>False</td>\n",
       "      <td>active</td>\n",
       "      <td>True</td>\n",
       "      <td>False</td>\n",
       "      <td>not_specified</td>\n",
       "      <td>2015</td>\n",
       "      <td>9</td>\n",
       "      <td>Saturday</td>\n",
       "      <td>20</td>\n",
       "      <td>42</td>\n",
       "      <td>9</td>\n",
       "      <td>Saturday</td>\n",
       "      <td>20</td>\n",
       "      <td>42</td>\n",
       "    </tr>\n",
       "    <tr>\n",
       "      <th>1</th>\n",
       "      <td>used</td>\n",
       "      <td>silver</td>\n",
       "      <td>2650.0</td>\n",
       "      <td>buy_it_now</td>\n",
       "      <td>True</td>\n",
       "      <td>False</td>\n",
       "      <td>active</td>\n",
       "      <td>True</td>\n",
       "      <td>False</td>\n",
       "      <td>me2</td>\n",
       "      <td>2015</td>\n",
       "      <td>9</td>\n",
       "      <td>Saturday</td>\n",
       "      <td>18</td>\n",
       "      <td>8</td>\n",
       "      <td>9</td>\n",
       "      <td>Saturday</td>\n",
       "      <td>18</td>\n",
       "      <td>8</td>\n",
       "    </tr>\n",
       "    <tr>\n",
       "      <th>2</th>\n",
       "      <td>used</td>\n",
       "      <td>bronze</td>\n",
       "      <td>60.0</td>\n",
       "      <td>buy_it_now</td>\n",
       "      <td>True</td>\n",
       "      <td>False</td>\n",
       "      <td>active</td>\n",
       "      <td>True</td>\n",
       "      <td>False</td>\n",
       "      <td>me2</td>\n",
       "      <td>2015</td>\n",
       "      <td>9</td>\n",
       "      <td>Wednesday</td>\n",
       "      <td>23</td>\n",
       "      <td>57</td>\n",
       "      <td>9</td>\n",
       "      <td>Wednesday</td>\n",
       "      <td>23</td>\n",
       "      <td>57</td>\n",
       "    </tr>\n",
       "    <tr>\n",
       "      <th>3</th>\n",
       "      <td>new</td>\n",
       "      <td>silver</td>\n",
       "      <td>580.0</td>\n",
       "      <td>buy_it_now</td>\n",
       "      <td>True</td>\n",
       "      <td>False</td>\n",
       "      <td>active</td>\n",
       "      <td>True</td>\n",
       "      <td>False</td>\n",
       "      <td>me2</td>\n",
       "      <td>2015</td>\n",
       "      <td>9</td>\n",
       "      <td>Monday</td>\n",
       "      <td>18</td>\n",
       "      <td>47</td>\n",
       "      <td>10</td>\n",
       "      <td>Monday</td>\n",
       "      <td>16</td>\n",
       "      <td>3</td>\n",
       "    </tr>\n",
       "    <tr>\n",
       "      <th>4</th>\n",
       "      <td>used</td>\n",
       "      <td>bronze</td>\n",
       "      <td>30.0</td>\n",
       "      <td>buy_it_now</td>\n",
       "      <td>True</td>\n",
       "      <td>False</td>\n",
       "      <td>active</td>\n",
       "      <td>True</td>\n",
       "      <td>False</td>\n",
       "      <td>not_specified</td>\n",
       "      <td>2015</td>\n",
       "      <td>8</td>\n",
       "      <td>Monday</td>\n",
       "      <td>22</td>\n",
       "      <td>7</td>\n",
       "      <td>8</td>\n",
       "      <td>Friday</td>\n",
       "      <td>13</td>\n",
       "      <td>37</td>\n",
       "    </tr>\n",
       "  </tbody>\n",
       "</table>\n",
       "</div>"
      ],
      "text/plain": [
       "  condition listing_type_id   price buying_mode  accepts_mercadopago  \\\n",
       "0       new          bronze    80.0  buy_it_now                 True   \n",
       "1      used          silver  2650.0  buy_it_now                 True   \n",
       "2      used          bronze    60.0  buy_it_now                 True   \n",
       "3       new          silver   580.0  buy_it_now                 True   \n",
       "4      used          bronze    30.0  buy_it_now                 True   \n",
       "\n",
       "   automatic_relist  status  shipping_local_pick_up  shipping_free_shipping  \\\n",
       "0             False  active                    True                   False   \n",
       "1             False  active                    True                   False   \n",
       "2             False  active                    True                   False   \n",
       "3             False  active                    True                   False   \n",
       "4             False  active                    True                   False   \n",
       "\n",
       "   shipping_mode  Year_created  Month_created day_name_created  Hour_created  \\\n",
       "0  not_specified          2015              9         Saturday            20   \n",
       "1            me2          2015              9         Saturday            18   \n",
       "2            me2          2015              9        Wednesday            23   \n",
       "3            me2          2015              9           Monday            18   \n",
       "4  not_specified          2015              8           Monday            22   \n",
       "\n",
       "   Min_created  Month_updated day_name_updated  Hour_updated  Min_updated  \n",
       "0           42              9         Saturday            20           42  \n",
       "1            8              9         Saturday            18            8  \n",
       "2           57              9        Wednesday            23           57  \n",
       "3           47             10           Monday            16            3  \n",
       "4            7              8           Friday            13           37  "
      ]
     },
     "execution_count": 56,
     "metadata": {},
     "output_type": "execute_result"
    }
   ],
   "source": [
    "# Lista de columnas a conservar\n",
    "columns_to_keep = [\n",
    "    \"condition\", \"listing_type_id\", \"price\", \"buying_mode\", \"accepts_mercadopago\",\n",
    "    \"automatic_relist\", \"status\", \"shipping_local_pick_up\", \"shipping_free_shipping\", \n",
    "    \"shipping_mode\", \"Year_created\", \"Month_created\", \"day_name_created\", \"Hour_created\", \n",
    "    \"Min_created\", \"Month_updated\", \"day_name_updated\", \"Hour_updated\", \"Min_updated\"\n",
    "]\n",
    "\n",
    "# Filtrar el DataFrame con solo esas columnas\n",
    "df_new = df_copy[columns_to_keep]\n",
    "\n",
    "# Mostrar las primeras filas para verificar\n",
    "df_new.head()\n"
   ]
  },
  {
   "cell_type": "markdown",
   "metadata": {},
   "source": [
    "## Analisis a nuevo dataset"
   ]
  },
  {
   "cell_type": "markdown",
   "metadata": {},
   "source": [
    "Tipos de datos"
   ]
  },
  {
   "cell_type": "code",
   "execution_count": 57,
   "metadata": {},
   "outputs": [
    {
     "data": {
      "text/plain": [
       "condition                  object\n",
       "listing_type_id            object\n",
       "price                     float64\n",
       "buying_mode                object\n",
       "accepts_mercadopago          bool\n",
       "automatic_relist             bool\n",
       "status                     object\n",
       "shipping_local_pick_up       bool\n",
       "shipping_free_shipping       bool\n",
       "shipping_mode              object\n",
       "Year_created                int32\n",
       "Month_created               int32\n",
       "day_name_created           object\n",
       "Hour_created                int32\n",
       "Min_created                 int32\n",
       "Month_updated               int32\n",
       "day_name_updated           object\n",
       "Hour_updated                int32\n",
       "Min_updated                 int32\n",
       "dtype: object"
      ]
     },
     "execution_count": 57,
     "metadata": {},
     "output_type": "execute_result"
    }
   ],
   "source": [
    "df_new.dtypes"
   ]
  },
  {
   "cell_type": "markdown",
   "metadata": {},
   "source": [
    "Valores nulos"
   ]
  },
  {
   "cell_type": "code",
   "execution_count": 58,
   "metadata": {},
   "outputs": [
    {
     "data": {
      "text/plain": [
       "condition                 100000\n",
       "listing_type_id           100000\n",
       "price                     100000\n",
       "buying_mode               100000\n",
       "accepts_mercadopago       100000\n",
       "automatic_relist          100000\n",
       "status                    100000\n",
       "shipping_local_pick_up    100000\n",
       "shipping_free_shipping    100000\n",
       "shipping_mode             100000\n",
       "Year_created              100000\n",
       "Month_created             100000\n",
       "day_name_created          100000\n",
       "Hour_created              100000\n",
       "Min_created               100000\n",
       "Month_updated             100000\n",
       "day_name_updated          100000\n",
       "Hour_updated              100000\n",
       "Min_updated               100000\n",
       "dtype: int64"
      ]
     },
     "execution_count": 58,
     "metadata": {},
     "output_type": "execute_result"
    }
   ],
   "source": [
    "df_new.count()  "
   ]
  },
  {
   "cell_type": "code",
   "execution_count": 59,
   "metadata": {},
   "outputs": [
    {
     "name": "stdout",
     "output_type": "stream",
     "text": [
      "condition                 0\n",
      "listing_type_id           0\n",
      "price                     0\n",
      "buying_mode               0\n",
      "accepts_mercadopago       0\n",
      "automatic_relist          0\n",
      "status                    0\n",
      "shipping_local_pick_up    0\n",
      "shipping_free_shipping    0\n",
      "shipping_mode             0\n",
      "Year_created              0\n",
      "Month_created             0\n",
      "day_name_created          0\n",
      "Hour_created              0\n",
      "Min_created               0\n",
      "Month_updated             0\n",
      "day_name_updated          0\n",
      "Hour_updated              0\n",
      "Min_updated               0\n",
      "dtype: int64\n"
     ]
    }
   ],
   "source": [
    "print(df_new.isnull().sum())"
   ]
  },
  {
   "cell_type": "markdown",
   "metadata": {},
   "source": [
    "Filas duplicadas"
   ]
  },
  {
   "cell_type": "code",
   "execution_count": 60,
   "metadata": {},
   "outputs": [
    {
     "name": "stdout",
     "output_type": "stream",
     "text": [
      "Número de filas duplicadas: 2409\n"
     ]
    }
   ],
   "source": [
    "num_duplicated_rows = df_new.duplicated().sum()\n",
    "print(f\"Número de filas duplicadas: {num_duplicated_rows}\")\n"
   ]
  },
  {
   "cell_type": "code",
   "execution_count": 61,
   "metadata": {},
   "outputs": [
    {
     "name": "stdout",
     "output_type": "stream",
     "text": [
      "Filas antes de eliminar duplicados: 100000\n",
      "Filas después de eliminar duplicados: 97591\n"
     ]
    }
   ],
   "source": [
    "print(f\"Filas antes de eliminar duplicados: {df_new.shape[0]}\")\n",
    "df_new_2 = df_new.drop_duplicates()\n",
    "print(f\"Filas después de eliminar duplicados: {df_new_2.shape[0]}\")\n"
   ]
  },
  {
   "cell_type": "markdown",
   "metadata": {},
   "source": [
    "Valores atipicos"
   ]
  },
  {
   "cell_type": "code",
   "execution_count": 62,
   "metadata": {},
   "outputs": [
    {
     "name": "stdout",
     "output_type": "stream",
     "text": [
      "['price', 'Year_created', 'Month_created', 'Hour_created', 'Min_created', 'Month_updated', 'Hour_updated', 'Min_updated']\n"
     ]
    }
   ],
   "source": [
    "# Detectar automáticamente las columnas numéricas\n",
    "columnas_numericas = df_new_2.select_dtypes(include=[np.number]).columns.tolist()\n",
    "print(columnas_numericas)"
   ]
  },
  {
   "cell_type": "code",
   "execution_count": 71,
   "metadata": {},
   "outputs": [],
   "source": [
    "# Función para detectar valores atípicos usando el método IQR\n",
    "def detectar_outliers_iqr(df, columnas_numericas):\n",
    "    outliers = {}\n",
    "    for col in columnas_numericas:\n",
    "        Q1 = df[col].quantile(0.25)  # Primer cuartil (Q1)\n",
    "        Q3 = df[col].quantile(0.75)  # Tercer cuartil (Q3)\n",
    "        IQR = Q3 - Q1  # Rango intercuartílico\n",
    "        lower_bound = Q1 - 1.5 * IQR  # Límite inferior\n",
    "        upper_bound = Q3 + 1.5 * IQR  # Límite superior\n",
    "\n",
    "        # Filtrar valores atípicos\n",
    "        outliers[col] = df[(df[col] < lower_bound) | (df[col] > upper_bound)][col]\n",
    "\n",
    "    return outliers"
   ]
  },
  {
   "cell_type": "code",
   "execution_count": 72,
   "metadata": {},
   "outputs": [
    {
     "name": "stdout",
     "output_type": "stream",
     "text": [
      "Columna 'price': 14090 valores atípicos detectados.\n",
      "Columna 'Year_created': 130 valores atípicos detectados.\n",
      "Columna 'Month_created': 579 valores atípicos detectados.\n",
      "Columna 'Hour_created': 0 valores atípicos detectados.\n",
      "Columna 'Min_created': 0 valores atípicos detectados.\n",
      "Columna 'Month_updated': 34 valores atípicos detectados.\n",
      "Columna 'Hour_updated': 0 valores atípicos detectados.\n",
      "Columna 'Min_updated': 0 valores atípicos detectados.\n"
     ]
    }
   ],
   "source": [
    "# Detectar outliers en las columnas numéricas\n",
    "outliers_detectados = detectar_outliers_iqr(df_new_2, columnas_numericas)\n",
    "\n",
    "# Mostrar la cantidad de outliers por columna\n",
    "for col, outliers in outliers_detectados.items():\n",
    "    print(f\"Columna '{col}': {len(outliers)} valores atípicos detectados.\")"
   ]
  },
  {
   "cell_type": "code",
   "execution_count": 73,
   "metadata": {},
   "outputs": [
    {
     "name": "stdout",
     "output_type": "stream",
     "text": [
      "Year_created\n",
      "2015    97461\n",
      "2014      121\n",
      "2013        9\n",
      "Name: count, dtype: int64\n"
     ]
    }
   ],
   "source": [
    "Year_created_counts = df_new_2['Year_created'].value_counts()\n",
    "\n",
    "print(Year_created_counts)"
   ]
  },
  {
   "cell_type": "code",
   "execution_count": 74,
   "metadata": {},
   "outputs": [
    {
     "name": "stdout",
     "output_type": "stream",
     "text": [
      "Month_created\n",
      "9     47753\n",
      "10    26944\n",
      "8     22283\n",
      "7       267\n",
      "6        78\n",
      "5        72\n",
      "2        45\n",
      "4        42\n",
      "12       34\n",
      "11       32\n",
      "3        25\n",
      "1        16\n",
      "Name: count, dtype: int64\n"
     ]
    }
   ],
   "source": [
    "Month_created_counts = df_new_2['Month_created'].value_counts()\n",
    "\n",
    "print(Month_created_counts)"
   ]
  },
  {
   "cell_type": "code",
   "execution_count": 75,
   "metadata": {},
   "outputs": [
    {
     "name": "stdout",
     "output_type": "stream",
     "text": [
      "Month_updated\n",
      "9     43607\n",
      "10    41131\n",
      "8     12816\n",
      "6        11\n",
      "7         5\n",
      "1         5\n",
      "5         4\n",
      "4         3\n",
      "11        3\n",
      "12        2\n",
      "2         2\n",
      "3         2\n",
      "Name: count, dtype: int64\n"
     ]
    }
   ],
   "source": [
    "Month_updated_counts = df_new_2['Month_updated'].value_counts()\n",
    "\n",
    "print(Month_updated_counts)"
   ]
  },
  {
   "cell_type": "code",
   "execution_count": 76,
   "metadata": {},
   "outputs": [
    {
     "data": {
      "image/png": "[encoded data removed]",
      "text/plain": [
       "<Figure size 1200x600 with 1 Axes>"
      ]
     },
     "metadata": {},
     "output_type": "display_data"
    }
   ],
   "source": [
    "# Visualización de outliers con diagramas de caja\n",
    "plt.figure(figsize=(12, 6))\n",
    "df_new_2[columnas_numericas].boxplot()\n",
    "plt.xticks(rotation=45)\n",
    "plt.title(\"Detección de Outliers con Diagramas de Caja (Boxplot)\")\n",
    "plt.ylabel(\"Valores\")\n",
    "plt.show()"
   ]
  },
  {
   "cell_type": "markdown",
   "metadata": {},
   "source": [
    "Eliminar outliers"
   ]
  },
  {
   "cell_type": "code",
   "execution_count": 77,
   "metadata": {},
   "outputs": [
    {
     "name": "stdout",
     "output_type": "stream",
     "text": [
      "Filas antes de eliminar outliers: 97591\n",
      "Filas después de eliminar outliers: 83308\n"
     ]
    }
   ],
   "source": [
    "# **Eliminar las filas con valores atípicos en las columnas seleccionadas**\n",
    "df_cleaned = df_new_2.copy()  # Crear una copia para mantener df original\n",
    "\n",
    "for col in columnas_numericas:\n",
    "    Q1 = df_cleaned[col].quantile(0.25)\n",
    "    Q3 = df_cleaned[col].quantile(0.75)\n",
    "    IQR = Q3 - Q1\n",
    "    lower_bound = Q1 - 1.5 * IQR\n",
    "    upper_bound = Q3 + 1.5 * IQR\n",
    "\n",
    "    # Filtrar solo las filas dentro de los límites aceptables\n",
    "    df_cleaned = df_cleaned[(df_cleaned[col] >= lower_bound) & (df_cleaned[col] <= upper_bound)]\n",
    "\n",
    "# Resetear el índice después de eliminar filas atípicas\n",
    "df_cleaned = df_cleaned.reset_index(drop=True)\n",
    "\n",
    "# Mostrar el número de filas antes y después de eliminar outliers\n",
    "print(f\"Filas antes de eliminar outliers: {df_new_2.shape[0]}\")\n",
    "print(f\"Filas después de eliminar outliers: {df_cleaned.shape[0]}\")"
   ]
  },
  {
   "cell_type": "markdown",
   "metadata": {},
   "source": [
    "Guardar datasets. Se guardan dos datsets, uno sin outliers con un enfoque más preparado para el modelo de machine learning y uno con outliers ya que es bien sabido que se debe hacer un entrenamiento considerando ambos escenarios para poder tomar decisiones en cuanto a su permanencia o eliminación."
   ]
  },
  {
   "cell_type": "code",
   "execution_count": 44,
   "metadata": {},
   "outputs": [
    {
     "name": "stdout",
     "output_type": "stream",
     "text": [
      "(83308, 19)\n",
      "(97591, 19)\n"
     ]
    }
   ],
   "source": [
    "# Guardar el DataFrame limpio en un archivo CSV\n",
    "df_cleaned.to_csv(\"dataset_limpio.csv\", index=False)\n",
    "\n",
    "# Guardar el DataFrame con otuliers en un archivo CSV\n",
    "df_new_2.to_csv(\"dataset_outliers.csv\", index=False)\n",
    "\n",
    "print(df_cleaned.shape)\n",
    "print(df_new_2.shape)"
   ]
  }
 ],
 "metadata": {
  "kernelspec": {
   "display_name": "venv",
   "language": "python",
   "name": "python3"
  },
  "language_info": {
   "codemirror_mode": {
    "name": "ipython",
    "version": 3
   },
   "file_extension": ".py",
   "mimetype": "text/x-python",
   "name": "python",
   "nbconvert_exporter": "python",
   "pygments_lexer": "ipython3",
   "version": "3.13.2"
  }
 },
 "nbformat": 4,
 "nbformat_minor": 2
}
